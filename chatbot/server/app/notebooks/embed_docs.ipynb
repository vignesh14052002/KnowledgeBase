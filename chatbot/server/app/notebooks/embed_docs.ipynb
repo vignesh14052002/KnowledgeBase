{
 "cells": [
  {
   "cell_type": "code",
   "execution_count": 2,
   "metadata": {},
   "outputs": [
    {
     "data": {
      "text/plain": [
       "[0.05168594419956207,\n",
       " -0.030764883384108543,\n",
       " -0.03062233328819275,\n",
       " -0.02802734449505806,\n",
       " 0.01813092641532421]"
      ]
     },
     "execution_count": 2,
     "metadata": {},
     "output_type": "execute_result"
    }
   ],
   "source": [
    "from dotenv import load_dotenv, find_dotenv\n",
    "from langchain_google_genai import GoogleGenerativeAIEmbeddings\n",
    "import os\n",
    "\n",
    "load_dotenv(find_dotenv())\n",
    "\n",
    "embeddings = GoogleGenerativeAIEmbeddings(model=\"models/embedding-001\",google_api_key=os.getenv(\"GEMINI_API_KEY\"))\n",
    "vector = embeddings.embed_query(\"hello, world!\")\n",
    "vector[:5]"
   ]
  },
  {
   "cell_type": "code",
   "execution_count": null,
   "metadata": {},
   "outputs": [],
   "source": [
    "\n"
   ]
  },
  {
   "cell_type": "code",
   "execution_count": 8,
   "metadata": {},
   "outputs": [
    {
     "data": {
      "text/plain": [
       "Document(metadata={'filepath': 'Architecture.md'}, page_content='# Architecture\\n\\n## Microservices\\nRefer to this [blog](https://dev.to/anthony_hagi/you-dont-need-microservices-a-real-world-perspective-1kck) for more information.')"
      ]
     },
     "execution_count": 8,
     "metadata": {},
     "output_type": "execute_result"
    }
   ],
   "source": [
    "from langchain_text_splitters import RecursiveCharacterTextSplitter, Language\n",
    "from langchain_core.documents import Document\n",
    "import os\n",
    "\n",
    "knowledge_base_path = os.path.join(\"../../../../knowledge_base\")\n",
    "\n",
    "seperators = RecursiveCharacterTextSplitter.get_separators_for_language(Language.MARKDOWN)\n",
    "splitter = RecursiveCharacterTextSplitter(\n",
    "    chunk_size=300,\n",
    "    chunk_overlap=20,\n",
    "    separators=seperators\n",
    ")\n",
    "\n",
    "docs = []\n",
    "\n",
    "for root, dirs, files in os.walk(knowledge_base_path):\n",
    "    for file in files:\n",
    "        if not file.endswith(\".md\"):\n",
    "            continue\n",
    "        filepath = os.path.join(root, file)\n",
    "        with open(filepath, \"r\") as f:\n",
    "            content = f.read()\n",
    "\n",
    "        # get path relative to knowledge_base\n",
    "        filepath = os.path.relpath(filepath, knowledge_base_path)\n",
    "        \n",
    "        chunks = splitter.split_text(content)\n",
    "        docs.extend([Document(page_content=chunk, metadata={\"filepath\":filepath}) for chunk in chunks])\n",
    "\n",
    "docs[0]\n"
   ]
  },
  {
   "cell_type": "code",
   "execution_count": 9,
   "metadata": {},
   "outputs": [],
   "source": [
    "from langchain_community.vectorstores import FAISS\n",
    "\n",
    "embeddings_path = os.path.join(knowledge_base_path,\"..\",\"embeddings\")\n",
    "\n",
    "index = FAISS.from_documents(docs, embeddings)\n",
    "index.save_local(embeddings_path)"
   ]
  }
 ],
 "metadata": {
  "kernelspec": {
   "display_name": ".venv",
   "language": "python",
   "name": "python3"
  },
  "language_info": {
   "codemirror_mode": {
    "name": "ipython",
    "version": 3
   },
   "file_extension": ".py",
   "mimetype": "text/x-python",
   "name": "python",
   "nbconvert_exporter": "python",
   "pygments_lexer": "ipython3",
   "version": "3.11.3"
  }
 },
 "nbformat": 4,
 "nbformat_minor": 2
}
